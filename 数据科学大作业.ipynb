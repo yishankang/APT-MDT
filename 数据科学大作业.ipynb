{
 "cells": [
  {
   "cell_type": "markdown",
   "metadata": {},
   "source": [
    "# 数据科学毕业项目（量化投资）~ 分析思路\n",
    "\n",
    "## 1、 套利定价理论（因子选择）\n",
    "\n",
    "1.1 套利定价理论（APT）进行多元线性分析，选出对证券收益最有影响的因子。\n",
    "\n",
    "1.2 可能有影响的因子约有100个左右，使用最小二乘法或岭回归不断减少因子，得出最有效的因子。\n",
    "\n",
    "1.3 按选出的因子进行预测，得到可能效果最佳的证券组合\n",
    "\n",
    "## 2、现代资产组合理论（组合优化）\n",
    "\n",
    "2.1 正态性检验\n",
    "\n",
    "2.2 Sharp优化，方差优化"
   ]
  },
  {
   "cell_type": "code",
   "execution_count": 115,
   "metadata": {
    "collapsed": true
   },
   "outputs": [],
   "source": [
    "#加载需要的库\n",
    "import datetime as dt\n",
    "import math\n",
    "import numpy as np\n",
    "import pandas as pd\n",
    "from pandas import Series, DataFrame\n",
    "# 导入多元线性规划需要的工具包\n",
    "import statsmodels.api as sm\n",
    "from statsmodels import regression\n",
    "import scipy.stats as scs\n",
    "import matplotlib.pyplot as plt\n",
    "\n",
    "#最优化投资组合的推导是一个约束最优化问题\n",
    "import scipy.optimize as sco"
   ]
  },
  {
   "cell_type": "markdown",
   "metadata": {
    "collapsed": true
   },
   "source": [
    "# 一、套利定价理论（APT）\n",
    "\n",
    "套利定价理论APT(Arbitrage Pricing Theory) 是认为是市场上风险资产均衡收益与多个因素之间存在（近似的）线性关系。\n",
    "\n",
    "套利定价理论是资本资产定价模型（CAPM）的拓广，由APT给出的定价模型与CAPM一样，都是均衡状态下的模型，不同的是APT的基础是因素模型。\n",
    "\n",
    "套利定价理论认为，套利行为是现代有效率市场（即市场均衡价格）形成的一个决定因素。如果市场未达到均衡状态的话，市场上就会存在无风险套利机会。 并且用多个因素来解释风险资产收益，并根据无套利原则，得到风险资产均衡收益与多个因素之间存在（近似的）线性关系。 \n",
    "\n"
   ]
  },
  {
   "cell_type": "markdown",
   "metadata": {},
   "source": [
    "1.1 基础设定\n",
    "\n",
    "1.1.1 股票池：我们选择沪深300指数的全部成份股票来进行分析，假定每一个因子对沪深300成份股票的作用相同。（可以按不同行业、不同特征或其它指数成份股票进行分析）\n",
    "\n",
    "1.1.2 调仓周期：由于公司财务数据是按季来进行公布，我们将按季度来进行回归分析、选股、并调整仓位。分别为2月、5月、8月、11月的第一天。\n",
    "\n",
    "1.1.3 回归方式：我们将一年内的4个季度财报数据与公告后3个月内的价格变动进行回归。\n",
    "\n",
    "1.1.4 预测调仓：我们预测出可能收益最佳的前10个股票进行持仓。并与沪深300指数进行对比。\n"
   ]
  },
  {
   "cell_type": "code",
   "execution_count": 28,
   "metadata": {
    "collapsed": true
   },
   "outputs": [],
   "source": [
    "#获得沪深300股票池\n",
    "stocks = get_index_stocks('000300.XSHG')\n",
    "#取得2015年的4期财报数据。并按财报后3个月的证券价格来计算收益\n",
    "periods = ['2015-02-01','2015-05-01','2015-08-01','2015-11-01']"
   ]
  },
  {
   "cell_type": "code",
   "execution_count": 29,
   "metadata": {
    "collapsed": false
   },
   "outputs": [
    {
     "data": {
      "text/html": [
       "<div>\n",
       "<table border=\"1\" class=\"dataframe\">\n",
       "  <thead>\n",
       "    <tr style=\"text-align: right;\">\n",
       "      <th></th>\n",
       "      <th>id</th>\n",
       "      <th>code</th>\n",
       "      <th>pe_ratio</th>\n",
       "      <th>turnover_ratio</th>\n",
       "      <th>pb_ratio</th>\n",
       "      <th>ps_ratio</th>\n",
       "      <th>pcf_ratio</th>\n",
       "      <th>capitalization</th>\n",
       "      <th>market_cap</th>\n",
       "      <th>circulating_cap</th>\n",
       "      <th>...</th>\n",
       "      <th>inc_total_revenue_annual</th>\n",
       "      <th>inc_revenue_year_on_year</th>\n",
       "      <th>inc_revenue_annual</th>\n",
       "      <th>inc_operation_profit_year_on_year</th>\n",
       "      <th>inc_operation_profit_annual</th>\n",
       "      <th>inc_net_profit_year_on_year</th>\n",
       "      <th>inc_net_profit_annual</th>\n",
       "      <th>inc_net_profit_to_shareholders_year_on_year</th>\n",
       "      <th>inc_net_profit_to_shareholders_annual</th>\n",
       "      <th>return</th>\n",
       "    </tr>\n",
       "  </thead>\n",
       "  <tbody>\n",
       "    <tr>\n",
       "      <th>0</th>\n",
       "      <td>2447</td>\n",
       "      <td>000001.XSHE</td>\n",
       "      <td>8.28</td>\n",
       "      <td>0.95</td>\n",
       "      <td>1.22</td>\n",
       "      <td>2.29</td>\n",
       "      <td>11.07</td>\n",
       "      <td>1142489</td>\n",
       "      <td>1591.49</td>\n",
       "      <td>983671</td>\n",
       "      <td>...</td>\n",
       "      <td>6.90</td>\n",
       "      <td>43.10</td>\n",
       "      <td>6.90</td>\n",
       "      <td>37.19</td>\n",
       "      <td>11.96</td>\n",
       "      <td>34.98</td>\n",
       "      <td>12.04</td>\n",
       "      <td>34.98</td>\n",
       "      <td>12.04</td>\n",
       "      <td>13.71</td>\n",
       "    </tr>\n",
       "    <tr>\n",
       "      <th>0</th>\n",
       "      <td>2505</td>\n",
       "      <td>000001.XSHE</td>\n",
       "      <td>11.24</td>\n",
       "      <td>2.45</td>\n",
       "      <td>1.67</td>\n",
       "      <td>2.94</td>\n",
       "      <td>-4.40</td>\n",
       "      <td>1370987</td>\n",
       "      <td>2289.55</td>\n",
       "      <td>1180405</td>\n",
       "      <td>...</td>\n",
       "      <td>10.21</td>\n",
       "      <td>28.39</td>\n",
       "      <td>10.21</td>\n",
       "      <td>10.95</td>\n",
       "      <td>36.02</td>\n",
       "      <td>11.38</td>\n",
       "      <td>37.03</td>\n",
       "      <td>11.38</td>\n",
       "      <td>37.03</td>\n",
       "      <td>10.07</td>\n",
       "    </tr>\n",
       "    <tr>\n",
       "      <th>0</th>\n",
       "      <td>2569</td>\n",
       "      <td>000001.XSHE</td>\n",
       "      <td>8.68</td>\n",
       "      <td>1.02</td>\n",
       "      <td>1.17</td>\n",
       "      <td>2.27</td>\n",
       "      <td>-3.40</td>\n",
       "      <td>1430868</td>\n",
       "      <td>1768.55</td>\n",
       "      <td>1180405</td>\n",
       "      <td>...</td>\n",
       "      <td>10.21</td>\n",
       "      <td>28.39</td>\n",
       "      <td>10.21</td>\n",
       "      <td>10.95</td>\n",
       "      <td>36.02</td>\n",
       "      <td>11.38</td>\n",
       "      <td>37.03</td>\n",
       "      <td>11.38</td>\n",
       "      <td>37.03</td>\n",
       "      <td>9.33</td>\n",
       "    </tr>\n",
       "    <tr>\n",
       "      <th>0</th>\n",
       "      <td>5057845</td>\n",
       "      <td>000001.XSHE</td>\n",
       "      <td>7.44</td>\n",
       "      <td>0.45</td>\n",
       "      <td>1.03</td>\n",
       "      <td>1.81</td>\n",
       "      <td>0.75</td>\n",
       "      <td>1430868</td>\n",
       "      <td>1625.47</td>\n",
       "      <td>1180405</td>\n",
       "      <td>...</td>\n",
       "      <td>-5.12</td>\n",
       "      <td>23.39</td>\n",
       "      <td>-5.12</td>\n",
       "      <td>8.24</td>\n",
       "      <td>2.79</td>\n",
       "      <td>9.48</td>\n",
       "      <td>3.34</td>\n",
       "      <td>9.48</td>\n",
       "      <td>3.34</td>\n",
       "      <td>8.21</td>\n",
       "    </tr>\n",
       "    <tr>\n",
       "      <th>0</th>\n",
       "      <td>5062</td>\n",
       "      <td>000002.XSHE</td>\n",
       "      <td>9.39</td>\n",
       "      <td>2.16</td>\n",
       "      <td>1.64</td>\n",
       "      <td>1.07</td>\n",
       "      <td>12.19</td>\n",
       "      <td>1103751</td>\n",
       "      <td>1448.12</td>\n",
       "      <td>970668</td>\n",
       "      <td>...</td>\n",
       "      <td>-29.52</td>\n",
       "      <td>0.69</td>\n",
       "      <td>-29.52</td>\n",
       "      <td>-5.72</td>\n",
       "      <td>-44.17</td>\n",
       "      <td>-1.34</td>\n",
       "      <td>-45.19</td>\n",
       "      <td>2.80</td>\n",
       "      <td>-49.73</td>\n",
       "      <td>14.11</td>\n",
       "    </tr>\n",
       "  </tbody>\n",
       "</table>\n",
       "<p>5 rows × 238 columns</p>\n",
       "</div>"
      ],
      "text/plain": [
       "        id         code  pe_ratio  turnover_ratio  pb_ratio  ps_ratio  \\\n",
       "0     2447  000001.XSHE      8.28            0.95      1.22      2.29   \n",
       "0     2505  000001.XSHE     11.24            2.45      1.67      2.94   \n",
       "0     2569  000001.XSHE      8.68            1.02      1.17      2.27   \n",
       "0  5057845  000001.XSHE      7.44            0.45      1.03      1.81   \n",
       "0     5062  000002.XSHE      9.39            2.16      1.64      1.07   \n",
       "\n",
       "   pcf_ratio  capitalization  market_cap  circulating_cap   ...    \\\n",
       "0      11.07         1142489     1591.49           983671   ...     \n",
       "0      -4.40         1370987     2289.55          1180405   ...     \n",
       "0      -3.40         1430868     1768.55          1180405   ...     \n",
       "0       0.75         1430868     1625.47          1180405   ...     \n",
       "0      12.19         1103751     1448.12           970668   ...     \n",
       "\n",
       "   inc_total_revenue_annual inc_revenue_year_on_year  inc_revenue_annual  \\\n",
       "0                      6.90                    43.10                6.90   \n",
       "0                     10.21                    28.39               10.21   \n",
       "0                     10.21                    28.39               10.21   \n",
       "0                     -5.12                    23.39               -5.12   \n",
       "0                    -29.52                     0.69              -29.52   \n",
       "\n",
       "   inc_operation_profit_year_on_year inc_operation_profit_annual  \\\n",
       "0                              37.19                       11.96   \n",
       "0                              10.95                       36.02   \n",
       "0                              10.95                       36.02   \n",
       "0                               8.24                        2.79   \n",
       "0                              -5.72                      -44.17   \n",
       "\n",
       "  inc_net_profit_year_on_year inc_net_profit_annual  \\\n",
       "0                       34.98                 12.04   \n",
       "0                       11.38                 37.03   \n",
       "0                       11.38                 37.03   \n",
       "0                        9.48                  3.34   \n",
       "0                       -1.34                -45.19   \n",
       "\n",
       "  inc_net_profit_to_shareholders_year_on_year  \\\n",
       "0                                       34.98   \n",
       "0                                       11.38   \n",
       "0                                       11.38   \n",
       "0                                        9.48   \n",
       "0                                        2.80   \n",
       "\n",
       "   inc_net_profit_to_shareholders_annual  return  \n",
       "0                                  12.04   13.71  \n",
       "0                                  37.03   10.07  \n",
       "0                                  37.03    9.33  \n",
       "0                                   3.34    8.21  \n",
       "0                                 -49.73   14.11  \n",
       "\n",
       "[5 rows x 238 columns]"
      ]
     },
     "execution_count": 29,
     "metadata": {},
     "output_type": "execute_result"
    }
   ],
   "source": [
    "df_stock_data = pd.DataFrame()\n",
    "\n",
    "for stock in stocks:\n",
    "    for period in periods:\n",
    "        #按沪深300和不同的日期表来查询数据\n",
    "        q = query(valuation,balance,cash_flow,income,indicator).filter(indicator.code.in_([stock]))\n",
    "        f_temp=get_fundamentals(q,period)\n",
    "        #得到90个自然日后的价格\n",
    "        next_period_day = dt.datetime.strptime(period,'%Y-%m-%d')  + dt.timedelta(days = 90)\n",
    "        df_next_price = get_price(stock, start_date=period, end_date=next_period_day, frequency='daily', fields=['close'])\n",
    "        #选出约1个季度后的价格的数据。\n",
    "        f_temp['return'] = df_next_price['close'][-1]\n",
    "        df_stock_data = df_stock_data.append(f_temp)\n",
    "#写入本地数据CSV表 \n",
    "write_file('csv_data/df_all_factors.csv', df_stock_data.to_csv())       \n",
    "\n",
    "df_stock_data.head()\n",
    "\n",
    "\n",
    "\n",
    "#最后代入2016年2月1日的因子数据，来预测一下5月1日的收益看看结果如何？\n"
   ]
  },
  {
   "cell_type": "code",
   "execution_count": 30,
   "metadata": {
    "collapsed": false
   },
   "outputs": [
    {
     "data": {
      "text/html": [
       "<div>\n",
       "<table border=\"1\" class=\"dataframe\">\n",
       "  <thead>\n",
       "    <tr style=\"text-align: right;\">\n",
       "      <th></th>\n",
       "      <th>eps</th>\n",
       "      <th>adjusted_profit</th>\n",
       "      <th>inc_return</th>\n",
       "      <th>operation_profit_to_total_revenue</th>\n",
       "      <th>net_profit_margin</th>\n",
       "      <th>gross_profit_margin</th>\n",
       "      <th>ga_expense_to_total_revenue</th>\n",
       "      <th>goods_sale_and_service_to_revenue</th>\n",
       "      <th>pb_ratio</th>\n",
       "      <th>pe_ratio</th>\n",
       "      <th>market_cap</th>\n",
       "      <th>ps_ratio</th>\n",
       "      <th>inc_total_revenue_year_on_year</th>\n",
       "      <th>return</th>\n",
       "    </tr>\n",
       "  </thead>\n",
       "  <tbody>\n",
       "    <tr>\n",
       "      <th>4</th>\n",
       "      <td>0.1500</td>\n",
       "      <td>1.641616e+09</td>\n",
       "      <td>2.11</td>\n",
       "      <td>12.18</td>\n",
       "      <td>9.53</td>\n",
       "      <td>28.49</td>\n",
       "      <td>3.08</td>\n",
       "      <td>181.35</td>\n",
       "      <td>1.64</td>\n",
       "      <td>9.39</td>\n",
       "      <td>1448.12</td>\n",
       "      <td>1.07</td>\n",
       "      <td>0.69</td>\n",
       "      <td>14.11</td>\n",
       "    </tr>\n",
       "    <tr>\n",
       "      <th>5</th>\n",
       "      <td>0.0590</td>\n",
       "      <td>6.286652e+08</td>\n",
       "      <td>0.71</td>\n",
       "      <td>13.15</td>\n",
       "      <td>10.21</td>\n",
       "      <td>34.00</td>\n",
       "      <td>8.01</td>\n",
       "      <td>358.62</td>\n",
       "      <td>1.81</td>\n",
       "      <td>10.85</td>\n",
       "      <td>1612.73</td>\n",
       "      <td>1.11</td>\n",
       "      <td>-6.35</td>\n",
       "      <td>14.08</td>\n",
       "    </tr>\n",
       "    <tr>\n",
       "      <th>6</th>\n",
       "      <td>0.0590</td>\n",
       "      <td>6.286652e+08</td>\n",
       "      <td>0.71</td>\n",
       "      <td>13.15</td>\n",
       "      <td>10.21</td>\n",
       "      <td>34.00</td>\n",
       "      <td>8.01</td>\n",
       "      <td>358.62</td>\n",
       "      <td>1.80</td>\n",
       "      <td>10.54</td>\n",
       "      <td>1566.72</td>\n",
       "      <td>1.07</td>\n",
       "      <td>-6.35</td>\n",
       "      <td>13.67</td>\n",
       "    </tr>\n",
       "    <tr>\n",
       "      <th>7</th>\n",
       "      <td>0.1800</td>\n",
       "      <td>1.850525e+09</td>\n",
       "      <td>2.09</td>\n",
       "      <td>12.39</td>\n",
       "      <td>9.37</td>\n",
       "      <td>26.67</td>\n",
       "      <td>2.89</td>\n",
       "      <td>162.29</td>\n",
       "      <td>1.70</td>\n",
       "      <td>9.36</td>\n",
       "      <td>1510.48</td>\n",
       "      <td>0.93</td>\n",
       "      <td>32.25</td>\n",
       "      <td>24.43</td>\n",
       "    </tr>\n",
       "    <tr>\n",
       "      <th>8</th>\n",
       "      <td>0.0202</td>\n",
       "      <td>3.159987e+04</td>\n",
       "      <td>0.00</td>\n",
       "      <td>9.29</td>\n",
       "      <td>8.96</td>\n",
       "      <td>36.21</td>\n",
       "      <td>13.81</td>\n",
       "      <td>98.67</td>\n",
       "      <td>6.00</td>\n",
       "      <td>81.15</td>\n",
       "      <td>196.73</td>\n",
       "      <td>4.97</td>\n",
       "      <td>-2.69</td>\n",
       "      <td>22.34</td>\n",
       "    </tr>\n",
       "  </tbody>\n",
       "</table>\n",
       "</div>"
      ],
      "text/plain": [
       "      eps  adjusted_profit  inc_return  operation_profit_to_total_revenue  \\\n",
       "4  0.1500     1.641616e+09        2.11                              12.18   \n",
       "5  0.0590     6.286652e+08        0.71                              13.15   \n",
       "6  0.0590     6.286652e+08        0.71                              13.15   \n",
       "7  0.1800     1.850525e+09        2.09                              12.39   \n",
       "8  0.0202     3.159987e+04        0.00                               9.29   \n",
       "\n",
       "   net_profit_margin  gross_profit_margin  ga_expense_to_total_revenue  \\\n",
       "4               9.53                28.49                         3.08   \n",
       "5              10.21                34.00                         8.01   \n",
       "6              10.21                34.00                         8.01   \n",
       "7               9.37                26.67                         2.89   \n",
       "8               8.96                36.21                        13.81   \n",
       "\n",
       "   goods_sale_and_service_to_revenue  pb_ratio  pe_ratio  market_cap  \\\n",
       "4                             181.35      1.64      9.39     1448.12   \n",
       "5                             358.62      1.81     10.85     1612.73   \n",
       "6                             358.62      1.80     10.54     1566.72   \n",
       "7                             162.29      1.70      9.36     1510.48   \n",
       "8                              98.67      6.00     81.15      196.73   \n",
       "\n",
       "   ps_ratio  inc_total_revenue_year_on_year  return  \n",
       "4      1.07                            0.69   14.11  \n",
       "5      1.11                           -6.35   14.08  \n",
       "6      1.07                           -6.35   13.67  \n",
       "7      0.93                           32.25   24.43  \n",
       "8      4.97                           -2.69   22.34  "
      ]
     },
     "execution_count": 30,
     "metadata": {},
     "output_type": "execute_result"
    }
   ],
   "source": [
    "#设置一些备选的因子\n",
    "factors=['eps','adjusted_profit','inc_return','operation_profit_to_total_revenue','net_profit_margin',\\\n",
    "         'gross_profit_margin','ga_expense_to_total_revenue','goods_sale_and_service_to_revenue',\\\n",
    "         'pb_ratio','pe_ratio','market_cap','ps_ratio','inc_total_revenue_year_on_year'] \n",
    "\n",
    "returns = ['return']\n",
    "\n",
    "df_factor = pd.read_csv('../csv_data/df_all_factors.csv')\n",
    "\n",
    "df_select_factor = df_factor[factors+returns]\n",
    "\n",
    "df_select_factor = df_select_factor.dropna()\n",
    "\n",
    "df_select_factor.head()\n",
    "\n"
   ]
  },
  {
   "cell_type": "code",
   "execution_count": 31,
   "metadata": {
    "collapsed": false
   },
   "outputs": [
    {
     "name": "stdout",
     "output_type": "stream",
     "text": [
      "const                                7.941747e+00\n",
      "eps                                  4.956643e+01\n",
      "adjusted_profit                     -1.524627e-09\n",
      "inc_return                          -9.299685e-01\n",
      "operation_profit_to_total_revenue   -2.665825e-02\n",
      "net_profit_margin                   -4.743561e-03\n",
      "gross_profit_margin                  2.888978e-02\n",
      "ga_expense_to_total_revenue          2.526062e-01\n",
      "goods_sale_and_service_to_revenue   -2.567983e-02\n",
      "pb_ratio                             1.050039e+00\n",
      "pe_ratio                            -6.136674e-05\n",
      "market_cap                           7.655626e-04\n",
      "ps_ratio                             1.857757e-03\n",
      "inc_total_revenue_year_on_year      -2.000187e-03\n",
      "dtype: float64\n"
     ]
    }
   ],
   "source": [
    "#将财报数据与收益来进行回归。得到多元线性参数，并去掉一些多余因子。\n",
    "X=sm.add_constant(df_select_factor[factors])\n",
    "# 进行多元线性回归\n",
    "results = regression.linear_model.OLS(df_select_factor['return'], X).fit()\n",
    "# 多元线性回归的参数值\n",
    "print results.params"
   ]
  },
  {
   "cell_type": "code",
   "execution_count": 32,
   "metadata": {
    "collapsed": false
   },
   "outputs": [
    {
     "name": "stdout",
     "output_type": "stream",
     "text": [
      "                            OLS Regression Results                            \n",
      "==============================================================================\n",
      "Dep. Variable:                 return   R-squared:                       0.607\n",
      "Model:                            OLS   Adj. R-squared:                  0.602\n",
      "Method:                 Least Squares   F-statistic:                     117.7\n",
      "Date:                Mon, 04 Jul 2016   Prob (F-statistic):          2.38e-190\n",
      "Time:                        15:48:11   Log-Likelihood:                -3885.3\n",
      "No. Observations:                1003   AIC:                             7799.\n",
      "Df Residuals:                     989   BIC:                             7867.\n",
      "Df Model:                          13                                         \n",
      "Covariance Type:            nonrobust                                         \n",
      "=====================================================================================================\n",
      "                                        coef    std err          t      P>|t|      [95.0% Conf. Int.]\n",
      "-----------------------------------------------------------------------------------------------------\n",
      "const                                 7.9417      0.846      9.386      0.000         6.281     9.602\n",
      "eps                                  49.5664      1.590     31.181      0.000        46.447    52.686\n",
      "adjusted_profit                   -1.525e-09   3.73e-10     -4.089      0.000     -2.26e-09 -7.93e-10\n",
      "inc_return                           -0.9300      0.178     -5.237      0.000        -1.278    -0.581\n",
      "operation_profit_to_total_revenue    -0.0267      0.031     -0.870      0.384        -0.087     0.033\n",
      "net_profit_margin                    -0.0047      0.031     -0.155      0.877        -0.065     0.055\n",
      "gross_profit_margin                   0.0289      0.025      1.138      0.255        -0.021     0.079\n",
      "ga_expense_to_total_revenue           0.2526      0.042      5.947      0.000         0.169     0.336\n",
      "goods_sale_and_service_to_revenue    -0.0257      0.005     -5.550      0.000        -0.035    -0.017\n",
      "pb_ratio                              1.0500      0.074     14.250      0.000         0.905     1.195\n",
      "pe_ratio                          -6.137e-05      0.000     -0.254      0.800        -0.001     0.000\n",
      "market_cap                            0.0008      0.000      2.189      0.029      7.92e-05     0.001\n",
      "ps_ratio                              0.0019      0.006      0.326      0.744        -0.009     0.013\n",
      "inc_total_revenue_year_on_year       -0.0020      0.003     -0.608      0.543        -0.008     0.004\n",
      "==============================================================================\n",
      "Omnibus:                      322.314   Durbin-Watson:                   1.161\n",
      "Prob(Omnibus):                  0.000   Jarque-Bera (JB):             2634.145\n",
      "Skew:                           1.237   Prob(JB):                         0.00\n",
      "Kurtosis:                      10.544   Cond. No.                     6.76e+09\n",
      "==============================================================================\n",
      "\n",
      "Warnings:\n",
      "[1] Standard Errors assume that the covariance matrix of the errors is correctly specified.\n",
      "[2] The condition number is large, 6.76e+09. This might indicate that there are\n",
      "strong multicollinearity or other numerical problems.\n"
     ]
    }
   ],
   "source": [
    "print(results.summary())"
   ]
  },
  {
   "cell_type": "code",
   "execution_count": 33,
   "metadata": {
    "collapsed": false
   },
   "outputs": [
    {
     "name": "stdout",
     "output_type": "stream",
     "text": [
      "const                                8.223522e+00\n",
      "eps                                  4.948640e+01\n",
      "adjusted_profit                     -1.487166e-09\n",
      "inc_return                          -1.049181e+00\n",
      "ga_expense_to_total_revenue          2.546132e-01\n",
      "goods_sale_and_service_to_revenue   -2.424908e-02\n",
      "pb_ratio                             1.083129e+00\n",
      "market_cap                           7.616721e-04\n",
      "dtype: float64\n",
      "                            OLS Regression Results                            \n",
      "==============================================================================\n",
      "Dep. Variable:                 return   R-squared:                       0.602\n",
      "Model:                            OLS   Adj. R-squared:                  0.600\n",
      "Method:                 Least Squares   F-statistic:                     216.5\n",
      "Date:                Mon, 04 Jul 2016   Prob (F-statistic):          2.31e-195\n",
      "Time:                        15:48:11   Log-Likelihood:                -3909.2\n",
      "No. Observations:                1008   AIC:                             7834.\n",
      "Df Residuals:                    1000   BIC:                             7874.\n",
      "Df Model:                           7                                         \n",
      "Covariance Type:            nonrobust                                         \n",
      "=====================================================================================================\n",
      "                                        coef    std err          t      P>|t|      [95.0% Conf. Int.]\n",
      "-----------------------------------------------------------------------------------------------------\n",
      "const                                 8.2235      0.663     12.400      0.000         6.922     9.525\n",
      "eps                                  49.4864      1.548     31.966      0.000        46.448    52.524\n",
      "adjusted_profit                   -1.487e-09   3.72e-10     -4.000      0.000     -2.22e-09 -7.58e-10\n",
      "inc_return                           -1.0492      0.161     -6.519      0.000        -1.365    -0.733\n",
      "ga_expense_to_total_revenue           0.2546      0.039      6.610      0.000         0.179     0.330\n",
      "goods_sale_and_service_to_revenue    -0.0242      0.004     -5.824      0.000        -0.032    -0.016\n",
      "pb_ratio                              1.0831      0.071     15.204      0.000         0.943     1.223\n",
      "market_cap                            0.0008      0.000      2.177      0.030      7.52e-05     0.001\n",
      "==============================================================================\n",
      "Omnibus:                      322.267   Durbin-Watson:                   1.184\n",
      "Prob(Omnibus):                  0.000   Jarque-Bera (JB):             2676.964\n",
      "Skew:                           1.225   Prob(JB):                         0.00\n",
      "Kurtosis:                      10.599   Cond. No.                     6.59e+09\n",
      "==============================================================================\n",
      "\n",
      "Warnings:\n",
      "[1] Standard Errors assume that the covariance matrix of the errors is correctly specified.\n",
      "[2] The condition number is large, 6.59e+09. This might indicate that there are\n",
      "strong multicollinearity or other numerical problems.\n"
     ]
    }
   ],
   "source": [
    "#将一些P值高的因子全部去掉\n",
    "factors=['eps','adjusted_profit','inc_return','ga_expense_to_total_revenue','goods_sale_and_service_to_revenue',\\\n",
    "         'pb_ratio','market_cap'] \n",
    "\n",
    "returns = ['return']\n",
    "\n",
    "df_factor = pd.read_csv('../csv_data/df_all_factors.csv')\n",
    "\n",
    "df_select_factor = df_factor[factors+returns]\n",
    "\n",
    "df_select_factor = df_select_factor.dropna()\n",
    "\n",
    "X=sm.add_constant(df_select_factor[factors])\n",
    "# 进行多元线性回归\n",
    "results = regression.linear_model.OLS(df_select_factor['return'], X).fit()\n",
    "# 多元线性回归的参数值\n",
    "print results.params\n",
    "\n",
    "print(results.summary())"
   ]
  },
  {
   "cell_type": "code",
   "execution_count": 79,
   "metadata": {
    "collapsed": false
   },
   "outputs": [
    {
     "data": {
      "text/html": [
       "<div>\n",
       "<table border=\"1\" class=\"dataframe\">\n",
       "  <thead>\n",
       "    <tr style=\"text-align: right;\">\n",
       "      <th></th>\n",
       "      <th>account_receivable</th>\n",
       "      <th>accounts_payable</th>\n",
       "      <th>adjusted_profit</th>\n",
       "      <th>adjusted_profit_to_profit</th>\n",
       "      <th>administration_expense</th>\n",
       "      <th>advance_payment</th>\n",
       "      <th>advance_peceipts</th>\n",
       "      <th>asset_impairment_loss</th>\n",
       "      <th>basic_eps</th>\n",
       "      <th>bill_receivable</th>\n",
       "      <th>...</th>\n",
       "      <th>total_operating_revenue</th>\n",
       "      <th>total_owner_equities</th>\n",
       "      <th>total_profit</th>\n",
       "      <th>total_sheet_owner_equities</th>\n",
       "      <th>trading_assets</th>\n",
       "      <th>trading_liability</th>\n",
       "      <th>treasury_stock</th>\n",
       "      <th>turnover_ratio</th>\n",
       "      <th>value_change_profit</th>\n",
       "      <th>withdraw_insurance_contract_reserve</th>\n",
       "    </tr>\n",
       "  </thead>\n",
       "  <tbody>\n",
       "    <tr>\n",
       "      <th>0</th>\n",
       "      <td>7120000000</td>\n",
       "      <td>NaN</td>\n",
       "      <td>6162999808</td>\n",
       "      <td>100.13</td>\n",
       "      <td>NaN</td>\n",
       "      <td>NaN</td>\n",
       "      <td>NaN</td>\n",
       "      <td>7.012000e+09</td>\n",
       "      <td>0.4300</td>\n",
       "      <td>NaN</td>\n",
       "      <td>...</td>\n",
       "      <td>24576999424</td>\n",
       "      <td>1.571360e+11</td>\n",
       "      <td>8026999808</td>\n",
       "      <td>2.599060e+12</td>\n",
       "      <td>NaN</td>\n",
       "      <td>NaN</td>\n",
       "      <td>NaN</td>\n",
       "      <td>0.35</td>\n",
       "      <td>933000000</td>\n",
       "      <td>NaN</td>\n",
       "    </tr>\n",
       "    <tr>\n",
       "      <th>0</th>\n",
       "      <td>1508193152</td>\n",
       "      <td>76799524864</td>\n",
       "      <td>1850524544</td>\n",
       "      <td>92.15</td>\n",
       "      <td>846247808</td>\n",
       "      <td>53028450304</td>\n",
       "      <td>2.313541e+11</td>\n",
       "      <td>3.088637e+07</td>\n",
       "      <td>0.1800</td>\n",
       "      <td>NaN</td>\n",
       "      <td>...</td>\n",
       "      <td>29329412096</td>\n",
       "      <td>1.211252e+11</td>\n",
       "      <td>3717434112</td>\n",
       "      <td>5.707934e+11</td>\n",
       "      <td>NaN</td>\n",
       "      <td>NaN</td>\n",
       "      <td>160148512</td>\n",
       "      <td>0.00</td>\n",
       "      <td>565417344</td>\n",
       "      <td>NaN</td>\n",
       "    </tr>\n",
       "    <tr>\n",
       "      <th>0</th>\n",
       "      <td>929522560</td>\n",
       "      <td>1236692864</td>\n",
       "      <td>-13388737</td>\n",
       "      <td>-2.38</td>\n",
       "      <td>160198288</td>\n",
       "      <td>157006496</td>\n",
       "      <td>4.686486e+08</td>\n",
       "      <td>7.425298e+06</td>\n",
       "      <td>0.3530</td>\n",
       "      <td>504332704</td>\n",
       "      <td>...</td>\n",
       "      <td>1141459712</td>\n",
       "      <td>6.477674e+09</td>\n",
       "      <td>829592256</td>\n",
       "      <td>1.666131e+10</td>\n",
       "      <td>NaN</td>\n",
       "      <td>NaN</td>\n",
       "      <td>NaN</td>\n",
       "      <td>4.66</td>\n",
       "      <td>838318144</td>\n",
       "      <td>NaN</td>\n",
       "    </tr>\n",
       "    <tr>\n",
       "      <th>0</th>\n",
       "      <td>2985187840</td>\n",
       "      <td>2108518528</td>\n",
       "      <td>546559424</td>\n",
       "      <td>97.18</td>\n",
       "      <td>188293344</td>\n",
       "      <td>831931520</td>\n",
       "      <td>4.507655e+08</td>\n",
       "      <td>-6.470810e+03</td>\n",
       "      <td>0.1419</td>\n",
       "      <td>23570000</td>\n",
       "      <td>...</td>\n",
       "      <td>3187848960</td>\n",
       "      <td>2.365507e+10</td>\n",
       "      <td>831129152</td>\n",
       "      <td>4.631445e+10</td>\n",
       "      <td>NaN</td>\n",
       "      <td>NaN</td>\n",
       "      <td>NaN</td>\n",
       "      <td>0.74</td>\n",
       "      <td>136012656</td>\n",
       "      <td>0</td>\n",
       "    </tr>\n",
       "    <tr>\n",
       "      <th>0</th>\n",
       "      <td>12853171200</td>\n",
       "      <td>9380634624</td>\n",
       "      <td>323492992</td>\n",
       "      <td>156.73</td>\n",
       "      <td>903224000</td>\n",
       "      <td>3983866880</td>\n",
       "      <td>3.432821e+09</td>\n",
       "      <td>7.814700e+07</td>\n",
       "      <td>0.0759</td>\n",
       "      <td>970595968</td>\n",
       "      <td>...</td>\n",
       "      <td>12633858048</td>\n",
       "      <td>3.108730e+10</td>\n",
       "      <td>449355008</td>\n",
       "      <td>1.029920e+11</td>\n",
       "      <td>NaN</td>\n",
       "      <td>NaN</td>\n",
       "      <td>NaN</td>\n",
       "      <td>0.95</td>\n",
       "      <td>-150834000</td>\n",
       "      <td>NaN</td>\n",
       "    </tr>\n",
       "  </tbody>\n",
       "</table>\n",
       "<p>5 rows × 238 columns</p>\n",
       "</div>"
      ],
      "text/plain": [
       "   account_receivable  accounts_payable  adjusted_profit  \\\n",
       "0          7120000000               NaN       6162999808   \n",
       "0          1508193152       76799524864       1850524544   \n",
       "0           929522560        1236692864        -13388737   \n",
       "0          2985187840        2108518528        546559424   \n",
       "0         12853171200        9380634624        323492992   \n",
       "\n",
       "   adjusted_profit_to_profit  administration_expense  advance_payment  \\\n",
       "0                     100.13                     NaN              NaN   \n",
       "0                      92.15               846247808      53028450304   \n",
       "0                      -2.38               160198288        157006496   \n",
       "0                      97.18               188293344        831931520   \n",
       "0                     156.73               903224000       3983866880   \n",
       "\n",
       "   advance_peceipts  asset_impairment_loss  basic_eps  bill_receivable  \\\n",
       "0               NaN           7.012000e+09     0.4300              NaN   \n",
       "0      2.313541e+11           3.088637e+07     0.1800              NaN   \n",
       "0      4.686486e+08           7.425298e+06     0.3530        504332704   \n",
       "0      4.507655e+08          -6.470810e+03     0.1419         23570000   \n",
       "0      3.432821e+09           7.814700e+07     0.0759        970595968   \n",
       "\n",
       "                  ...                   total_operating_revenue  \\\n",
       "0                 ...                               24576999424   \n",
       "0                 ...                               29329412096   \n",
       "0                 ...                                1141459712   \n",
       "0                 ...                                3187848960   \n",
       "0                 ...                               12633858048   \n",
       "\n",
       "   total_owner_equities  total_profit  total_sheet_owner_equities  \\\n",
       "0          1.571360e+11    8026999808                2.599060e+12   \n",
       "0          1.211252e+11    3717434112                5.707934e+11   \n",
       "0          6.477674e+09     829592256                1.666131e+10   \n",
       "0          2.365507e+10     831129152                4.631445e+10   \n",
       "0          3.108730e+10     449355008                1.029920e+11   \n",
       "\n",
       "   trading_assets  trading_liability  treasury_stock  turnover_ratio  \\\n",
       "0             NaN                NaN             NaN            0.35   \n",
       "0             NaN                NaN       160148512            0.00   \n",
       "0             NaN                NaN             NaN            4.66   \n",
       "0             NaN                NaN             NaN            0.74   \n",
       "0             NaN                NaN             NaN            0.95   \n",
       "\n",
       "   value_change_profit  withdraw_insurance_contract_reserve  \n",
       "0            933000000                                  NaN  \n",
       "0            565417344                                  NaN  \n",
       "0            838318144                                  NaN  \n",
       "0            136012656                                    0  \n",
       "0           -150834000                                  NaN  \n",
       "\n",
       "[5 rows x 238 columns]"
      ]
     },
     "execution_count": 79,
     "metadata": {},
     "output_type": "execute_result"
    }
   ],
   "source": [
    "#得到2016年02-01的因子数据,用来预测下三个月的收益表现\n",
    "df_current_data = pd.DataFrame(columns = df_stock_data.columns)\n",
    "for stock in stocks:\n",
    "    q = query(valuation,balance,cash_flow,income,indicator).filter(indicator.code.in_([stock]))\n",
    "    f_temp=get_fundamentals(q,'2016-02-01')    \n",
    "    df_current_data = df_current_data.append(f_temp) \n",
    "\n",
    "df_current_data.head()\n",
    "\n"
   ]
  },
  {
   "cell_type": "code",
   "execution_count": 80,
   "metadata": {
    "collapsed": false
   },
   "outputs": [
    {
     "name": "stdout",
     "output_type": "stream",
     "text": [
      "['002027.XSHE' '600519.XSHG' '601021.XSHG' '002304.XSHE' '000538.XSHE'\n",
      " '300104.XSHE' '603885.XSHG' '002594.XSHE' '000963.XSHE' '600570.XSHG'\n",
      " '000333.XSHE']\n"
     ]
    }
   ],
   "source": [
    "#删除其它因子,得到对应的因子数据,并将index设置为股票代码,用来排序时作为结果输出\n",
    "code=array(df_current_data.code)\n",
    "df_current_data = df_current_data[factors]\n",
    "df_current_data.index=code\n",
    "\n",
    "df_current_data.dropna()\n",
    "#得到因子系数列表\n",
    "betas=results.params[1:]\n",
    "\n",
    "# 假设上一期的回归参数对于下一期仍然适用，对股票下一期的收益进行估计\n",
    "points =df_current_data.dot(betas) + results.params[0]\n",
    "#按分值进行排名\n",
    "points.sort(ascending=False)\n",
    "#得到前10名的股票代码\n",
    "recommand_list_Buy=array(points.index[0:11]) #PS:乐视停牌,我们多拿一个.\n",
    "\n",
    "print recommand_list_Buy\n"
   ]
  },
  {
   "cell_type": "code",
   "execution_count": 81,
   "metadata": {
    "collapsed": false
   },
   "outputs": [
    {
     "name": "stdout",
     "output_type": "stream",
     "text": [
      "排名: 1, 代码: 002027.XSHE, 名称: 分众传媒\n",
      "排名: 2, 代码: 600519.XSHG, 名称: 贵州茅台\n",
      "排名: 3, 代码: 601021.XSHG, 名称: 春秋航空\n",
      "排名: 4, 代码: 002304.XSHE, 名称: 洋河股份\n",
      "排名: 5, 代码: 000538.XSHE, 名称: 云南白药\n",
      "排名: 6, 代码: 300104.XSHE, 名称: 乐视网\n",
      "排名: 7, 代码: 603885.XSHG, 名称: 吉祥航空\n",
      "排名: 8, 代码: 002594.XSHE, 名称: 比亚迪\n",
      "排名: 9, 代码: 000963.XSHE, 名称: 华东医药\n",
      "排名: 10, 代码: 600570.XSHG, 名称: 恒生电子\n",
      "排名: 11, 代码: 000333.XSHE, 名称: 美的集团\n"
     ]
    }
   ],
   "source": [
    "for i in range(len(recommand_list_Buy)):\n",
    "    print '排名: {0}, 代码: {1}, 名称: {2}'.format(i+1, recommand_list_Buy[i],\\\n",
    "        get_security_info(recommand_list_Buy[i]).display_name)"
   ]
  },
  {
   "cell_type": "markdown",
   "metadata": {},
   "source": [
    "最后, 我们按因子的预测得到以上的10支推荐股票,接下来我们要进行组合优化。"
   ]
  },
  {
   "cell_type": "markdown",
   "metadata": {},
   "source": [
    "# 二、现代资产组合理论（Modern Portfolio Theory，简称MPT）\n",
    "\n",
    "现代资产组合理论（Modern Portfolio Theory，简称MPT），也有人将其称为现代证券投资组合理论、证券组合理论或投资分散理论。\n",
    "\n",
    "现代资产组合理论由美国纽约市立大学巴鲁克学院的经济学教授马柯维茨(Markowitz)提出的,他将概率论和线性代数的方法应用于证券投资组合的研究，探讨了不同类别的、运动方向各异的证券之间的内在相关性，并于1959年出版了《证券组合选择》一书，详细论述了证券组合的基本原理，从而为现代西方证券投资理论奠定了基础。。\n",
    "\n",
    "现代资产组合理论认为投资者的效用函数(U)仅取决于他们资产组合的随机流动性的头两阶距μ和σ2(均值和方差)，其中Markowitzd(1952)利用单个证券收益率的方差衡量单个证券的风险，利用单个证券收益率的方差和与其他证券收益率的协方差来衡量证券组合的风险，并建立最小方差模型，用来确定证券的最优组合，称为前沿证券组合，所有的前沿证券组合的集合构成的证券组合前沿，同时满足风险水平一定时收益最高、收益一定时风险最小条件的前沿证券组合为有效证券组合。 \n"
   ]
  },
  {
   "cell_type": "markdown",
   "metadata": {},
   "source": [
    "### **2.1 正态性检验**\n",
    "\n",
    "我们对股票池中股票做一些正态性检验的尝试"
   ]
  },
  {
   "cell_type": "code",
   "execution_count": 92,
   "metadata": {
    "collapsed": false
   },
   "outputs": [
    {
     "data": {
      "text/html": [
       "<div>\n",
       "<table border=\"1\" class=\"dataframe\">\n",
       "  <thead>\n",
       "    <tr style=\"text-align: right;\">\n",
       "      <th></th>\n",
       "      <th>002027.XSHE</th>\n",
       "      <th>600519.XSHG</th>\n",
       "      <th>601021.XSHG</th>\n",
       "      <th>002304.XSHE</th>\n",
       "      <th>000538.XSHE</th>\n",
       "      <th>000333.XSHE</th>\n",
       "      <th>300104.XSHE</th>\n",
       "      <th>002594.XSHE</th>\n",
       "      <th>000963.XSHE</th>\n",
       "      <th>600570.XSHG</th>\n",
       "    </tr>\n",
       "  </thead>\n",
       "  <tbody>\n",
       "    <tr>\n",
       "      <th>2015-02-02</th>\n",
       "      <td>4.00</td>\n",
       "      <td>152.90</td>\n",
       "      <td>27.87</td>\n",
       "      <td>51.91</td>\n",
       "      <td>61.14</td>\n",
       "      <td>18.05</td>\n",
       "      <td>22.71</td>\n",
       "      <td>38.47</td>\n",
       "      <td>52.21</td>\n",
       "      <td>60.01</td>\n",
       "    </tr>\n",
       "    <tr>\n",
       "      <th>2015-02-03</th>\n",
       "      <td>4.17</td>\n",
       "      <td>156.00</td>\n",
       "      <td>30.66</td>\n",
       "      <td>53.29</td>\n",
       "      <td>62.17</td>\n",
       "      <td>18.35</td>\n",
       "      <td>24.21</td>\n",
       "      <td>38.73</td>\n",
       "      <td>52.82</td>\n",
       "      <td>62.62</td>\n",
       "    </tr>\n",
       "    <tr>\n",
       "      <th>2015-02-04</th>\n",
       "      <td>4.09</td>\n",
       "      <td>155.02</td>\n",
       "      <td>29.69</td>\n",
       "      <td>55.27</td>\n",
       "      <td>61.11</td>\n",
       "      <td>18.31</td>\n",
       "      <td>24.45</td>\n",
       "      <td>38.27</td>\n",
       "      <td>51.28</td>\n",
       "      <td>62.10</td>\n",
       "    </tr>\n",
       "    <tr>\n",
       "      <th>2015-02-05</th>\n",
       "      <td>4.14</td>\n",
       "      <td>152.23</td>\n",
       "      <td>32.65</td>\n",
       "      <td>56.41</td>\n",
       "      <td>60.08</td>\n",
       "      <td>18.11</td>\n",
       "      <td>26.90</td>\n",
       "      <td>37.73</td>\n",
       "      <td>49.88</td>\n",
       "      <td>63.12</td>\n",
       "    </tr>\n",
       "    <tr>\n",
       "      <th>2015-02-06</th>\n",
       "      <td>4.26</td>\n",
       "      <td>152.71</td>\n",
       "      <td>31.29</td>\n",
       "      <td>54.46</td>\n",
       "      <td>59.04</td>\n",
       "      <td>18.18</td>\n",
       "      <td>26.62</td>\n",
       "      <td>36.23</td>\n",
       "      <td>49.47</td>\n",
       "      <td>60.37</td>\n",
       "    </tr>\n",
       "  </tbody>\n",
       "</table>\n",
       "</div>"
      ],
      "text/plain": [
       "            002027.XSHE  600519.XSHG  601021.XSHG  002304.XSHE  000538.XSHE  \\\n",
       "2015-02-02         4.00       152.90        27.87        51.91        61.14   \n",
       "2015-02-03         4.17       156.00        30.66        53.29        62.17   \n",
       "2015-02-04         4.09       155.02        29.69        55.27        61.11   \n",
       "2015-02-05         4.14       152.23        32.65        56.41        60.08   \n",
       "2015-02-06         4.26       152.71        31.29        54.46        59.04   \n",
       "\n",
       "            000333.XSHE  300104.XSHE  002594.XSHE  000963.XSHE  600570.XSHG  \n",
       "2015-02-02        18.05        22.71        38.47        52.21        60.01  \n",
       "2015-02-03        18.35        24.21        38.73        52.82        62.62  \n",
       "2015-02-04        18.31        24.45        38.27        51.28        62.10  \n",
       "2015-02-05        18.11        26.90        37.73        49.88        63.12  \n",
       "2015-02-06        18.18        26.62        36.23        49.47        60.37  "
      ]
     },
     "execution_count": 92,
     "metadata": {},
     "output_type": "execute_result"
    }
   ],
   "source": [
    "#我们将前期得到的股票组合,进行优化组合.\n",
    "stock = ['002027.XSHE','600519.XSHG','601021.XSHG','002304.XSHE','000538.XSHE', \\\n",
    "         '000333.XSHE','300104.XSHE','002594.XSHE','000963.XSHE','600570.XSHG']\n",
    "noa = len(stock)\n",
    "start_date = '2015-02-01'\n",
    "end_date = '2016-02-01'\n",
    "df = get_price(stock, start_date, end_date, 'daily',['close'])\n",
    "data = df['close']\n",
    "data.head()"
   ]
  },
  {
   "cell_type": "markdown",
   "metadata": {},
   "source": [
    "我们发现603885 吉祥航空停牌,去掉该股票(PS:也可以替补其它股票进入组合)"
   ]
  },
  {
   "cell_type": "code",
   "execution_count": 93,
   "metadata": {
    "collapsed": false
   },
   "outputs": [
    {
     "data": {
      "text/html": [
       "<div>\n",
       "<table border=\"1\" class=\"dataframe\">\n",
       "  <thead>\n",
       "    <tr style=\"text-align: right;\">\n",
       "      <th></th>\n",
       "      <th>002027.XSHE</th>\n",
       "      <th>600519.XSHG</th>\n",
       "      <th>601021.XSHG</th>\n",
       "      <th>002304.XSHE</th>\n",
       "      <th>000538.XSHE</th>\n",
       "      <th>000333.XSHE</th>\n",
       "      <th>300104.XSHE</th>\n",
       "      <th>002594.XSHE</th>\n",
       "      <th>000963.XSHE</th>\n",
       "      <th>600570.XSHG</th>\n",
       "    </tr>\n",
       "  </thead>\n",
       "  <tbody>\n",
       "    <tr>\n",
       "      <th>2015-02-02</th>\n",
       "      <td>4.00</td>\n",
       "      <td>152.90</td>\n",
       "      <td>27.87</td>\n",
       "      <td>51.91</td>\n",
       "      <td>61.14</td>\n",
       "      <td>18.05</td>\n",
       "      <td>22.71</td>\n",
       "      <td>38.47</td>\n",
       "      <td>52.21</td>\n",
       "      <td>60.01</td>\n",
       "    </tr>\n",
       "    <tr>\n",
       "      <th>2015-02-03</th>\n",
       "      <td>4.17</td>\n",
       "      <td>156.00</td>\n",
       "      <td>30.66</td>\n",
       "      <td>53.29</td>\n",
       "      <td>62.17</td>\n",
       "      <td>18.35</td>\n",
       "      <td>24.21</td>\n",
       "      <td>38.73</td>\n",
       "      <td>52.82</td>\n",
       "      <td>62.62</td>\n",
       "    </tr>\n",
       "    <tr>\n",
       "      <th>2015-02-04</th>\n",
       "      <td>4.09</td>\n",
       "      <td>155.02</td>\n",
       "      <td>29.69</td>\n",
       "      <td>55.27</td>\n",
       "      <td>61.11</td>\n",
       "      <td>18.31</td>\n",
       "      <td>24.45</td>\n",
       "      <td>38.27</td>\n",
       "      <td>51.28</td>\n",
       "      <td>62.10</td>\n",
       "    </tr>\n",
       "    <tr>\n",
       "      <th>2015-02-05</th>\n",
       "      <td>4.14</td>\n",
       "      <td>152.23</td>\n",
       "      <td>32.65</td>\n",
       "      <td>56.41</td>\n",
       "      <td>60.08</td>\n",
       "      <td>18.11</td>\n",
       "      <td>26.90</td>\n",
       "      <td>37.73</td>\n",
       "      <td>49.88</td>\n",
       "      <td>63.12</td>\n",
       "    </tr>\n",
       "    <tr>\n",
       "      <th>2015-02-06</th>\n",
       "      <td>4.26</td>\n",
       "      <td>152.71</td>\n",
       "      <td>31.29</td>\n",
       "      <td>54.46</td>\n",
       "      <td>59.04</td>\n",
       "      <td>18.18</td>\n",
       "      <td>26.62</td>\n",
       "      <td>36.23</td>\n",
       "      <td>49.47</td>\n",
       "      <td>60.37</td>\n",
       "    </tr>\n",
       "  </tbody>\n",
       "</table>\n",
       "</div>"
      ],
      "text/plain": [
       "            002027.XSHE  600519.XSHG  601021.XSHG  002304.XSHE  000538.XSHE  \\\n",
       "2015-02-02         4.00       152.90        27.87        51.91        61.14   \n",
       "2015-02-03         4.17       156.00        30.66        53.29        62.17   \n",
       "2015-02-04         4.09       155.02        29.69        55.27        61.11   \n",
       "2015-02-05         4.14       152.23        32.65        56.41        60.08   \n",
       "2015-02-06         4.26       152.71        31.29        54.46        59.04   \n",
       "\n",
       "            000333.XSHE  300104.XSHE  002594.XSHE  000963.XSHE  600570.XSHG  \n",
       "2015-02-02        18.05        22.71        38.47        52.21        60.01  \n",
       "2015-02-03        18.35        24.21        38.73        52.82        62.62  \n",
       "2015-02-04        18.31        24.45        38.27        51.28        62.10  \n",
       "2015-02-05        18.11        26.90        37.73        49.88        63.12  \n",
       "2015-02-06        18.18        26.62        36.23        49.47        60.37  "
      ]
     },
     "execution_count": 93,
     "metadata": {},
     "output_type": "execute_result"
    }
   ],
   "source": [
    "data = data.dropna(axis='columns')\n",
    "\n",
    "data.head()"
   ]
  },
  {
   "cell_type": "code",
   "execution_count": 94,
   "metadata": {
    "collapsed": false
   },
   "outputs": [
    {
     "data": {
      "image/png": "[encoded data removed]",
      "text/plain": [
       "<matplotlib.figure.Figure at 0x7f4707796110>"
      ]
     },
     "metadata": {},
     "output_type": "display_data"
    }
   ],
   "source": [
    "#比较一个各支股票的走势情况\n",
    "(data/data.ix[0]*100).plot(figsize = (8,6));"
   ]
  },
  {
   "cell_type": "code",
   "execution_count": 95,
   "metadata": {
    "collapsed": false
   },
   "outputs": [
    {
     "data": {
      "text/html": [
       "<div>\n",
       "<table border=\"1\" class=\"dataframe\">\n",
       "  <thead>\n",
       "    <tr style=\"text-align: right;\">\n",
       "      <th></th>\n",
       "      <th>002027.XSHE</th>\n",
       "      <th>600519.XSHG</th>\n",
       "      <th>601021.XSHG</th>\n",
       "      <th>002304.XSHE</th>\n",
       "      <th>000538.XSHE</th>\n",
       "      <th>000333.XSHE</th>\n",
       "      <th>300104.XSHE</th>\n",
       "      <th>002594.XSHE</th>\n",
       "      <th>000963.XSHE</th>\n",
       "      <th>600570.XSHG</th>\n",
       "    </tr>\n",
       "  </thead>\n",
       "  <tbody>\n",
       "    <tr>\n",
       "      <th>2015-02-03</th>\n",
       "      <td>0.041622</td>\n",
       "      <td>0.020072</td>\n",
       "      <td>0.095408</td>\n",
       "      <td>0.026237</td>\n",
       "      <td>0.016706</td>\n",
       "      <td>0.016484</td>\n",
       "      <td>0.063960</td>\n",
       "      <td>0.006736</td>\n",
       "      <td>0.011616</td>\n",
       "      <td>0.042574</td>\n",
       "    </tr>\n",
       "    <tr>\n",
       "      <th>2015-02-04</th>\n",
       "      <td>-0.019371</td>\n",
       "      <td>-0.006302</td>\n",
       "      <td>-0.032149</td>\n",
       "      <td>0.036482</td>\n",
       "      <td>-0.017197</td>\n",
       "      <td>-0.002182</td>\n",
       "      <td>0.009864</td>\n",
       "      <td>-0.011948</td>\n",
       "      <td>-0.029589</td>\n",
       "      <td>-0.008339</td>\n",
       "    </tr>\n",
       "    <tr>\n",
       "      <th>2015-02-05</th>\n",
       "      <td>0.012151</td>\n",
       "      <td>-0.018162</td>\n",
       "      <td>0.095035</td>\n",
       "      <td>0.020416</td>\n",
       "      <td>-0.016999</td>\n",
       "      <td>-0.010983</td>\n",
       "      <td>0.095496</td>\n",
       "      <td>-0.014211</td>\n",
       "      <td>-0.027681</td>\n",
       "      <td>0.016292</td>\n",
       "    </tr>\n",
       "    <tr>\n",
       "      <th>2015-02-06</th>\n",
       "      <td>0.028573</td>\n",
       "      <td>0.003148</td>\n",
       "      <td>-0.042546</td>\n",
       "      <td>-0.035180</td>\n",
       "      <td>-0.017462</td>\n",
       "      <td>0.003858</td>\n",
       "      <td>-0.010463</td>\n",
       "      <td>-0.040568</td>\n",
       "      <td>-0.008254</td>\n",
       "      <td>-0.044545</td>\n",
       "    </tr>\n",
       "    <tr>\n",
       "      <th>2015-02-09</th>\n",
       "      <td>-0.040724</td>\n",
       "      <td>0.054043</td>\n",
       "      <td>-0.019036</td>\n",
       "      <td>0.039072</td>\n",
       "      <td>0.006416</td>\n",
       "      <td>0.015284</td>\n",
       "      <td>-0.021261</td>\n",
       "      <td>0.000000</td>\n",
       "      <td>-0.006693</td>\n",
       "      <td>0.038826</td>\n",
       "    </tr>\n",
       "  </tbody>\n",
       "</table>\n",
       "</div>"
      ],
      "text/plain": [
       "            002027.XSHE  600519.XSHG  601021.XSHG  002304.XSHE  000538.XSHE  \\\n",
       "2015-02-03     0.041622     0.020072     0.095408     0.026237     0.016706   \n",
       "2015-02-04    -0.019371    -0.006302    -0.032149     0.036482    -0.017197   \n",
       "2015-02-05     0.012151    -0.018162     0.095035     0.020416    -0.016999   \n",
       "2015-02-06     0.028573     0.003148    -0.042546    -0.035180    -0.017462   \n",
       "2015-02-09    -0.040724     0.054043    -0.019036     0.039072     0.006416   \n",
       "\n",
       "            000333.XSHE  300104.XSHE  002594.XSHE  000963.XSHE  600570.XSHG  \n",
       "2015-02-03     0.016484     0.063960     0.006736     0.011616     0.042574  \n",
       "2015-02-04    -0.002182     0.009864    -0.011948    -0.029589    -0.008339  \n",
       "2015-02-05    -0.010983     0.095496    -0.014211    -0.027681     0.016292  \n",
       "2015-02-06     0.003858    -0.010463    -0.040568    -0.008254    -0.044545  \n",
       "2015-02-09     0.015284    -0.021261     0.000000    -0.006693     0.038826  "
      ]
     },
     "execution_count": 95,
     "metadata": {},
     "output_type": "execute_result"
    }
   ],
   "source": [
    "#查看股票收益的分布情况\n",
    "log_returns = np.log(data/data.shift(1))\n",
    "log_returns = log_returns.dropna()\n",
    "log_returns.head()"
   ]
  },
  {
   "cell_type": "code",
   "execution_count": 97,
   "metadata": {
    "collapsed": false
   },
   "outputs": [
    {
     "data": {
      "image/png": "[encoded data removed]",
      "text/plain": [
       "<matplotlib.figure.Figure at 0x7f470c4bb290>"
      ]
     },
     "metadata": {},
     "output_type": "display_data"
    }
   ],
   "source": [
    "log_returns.hist(bins = 50, figsize = (12,9));"
   ]
  },
  {
   "cell_type": "markdown",
   "metadata": {},
   "source": [
    "结论:收益明显不是正态分布,有肥尾现象。"
   ]
  },
  {
   "cell_type": "markdown",
   "metadata": {},
   "source": [
    "### **2.2 蒙特卡洛模拟**\n",
    "\n",
    "我们希望知道给定的一个股票池（证券组合）如何找到风险和收益平衡的位置。\n",
    "\n",
    "下面通过一次蒙特卡洛模拟，产生大量随机的权重向量，并记录随机组合的预期收益和方差。"
   ]
  },
  {
   "cell_type": "markdown",
   "metadata": {},
   "source": [
    "2.2.1 我们按每年252个交易日，用每日收益可以得到年化收益。"
   ]
  },
  {
   "cell_type": "code",
   "execution_count": 68,
   "metadata": {
    "collapsed": false
   },
   "outputs": [
    {
     "data": {
      "text/plain": [
       "002027.XSHE    1.367156\n",
       "600519.XSHG    0.261938\n",
       "601021.XSHG    0.571751\n",
       "002304.XSHE    0.102569\n",
       "000538.XSHE   -0.040831\n",
       "300104.XSHE    0.982001\n",
       "002594.XSHE    0.241409\n",
       "000963.XSHE    0.243941\n",
       "600570.XSHG   -0.452787\n",
       "dtype: float64"
      ]
     },
     "execution_count": 68,
     "metadata": {},
     "output_type": "execute_result"
    }
   ],
   "source": [
    "log_returns.mean() * 252 #得到年化收益"
   ]
  },
  {
   "cell_type": "markdown",
   "metadata": {},
   "source": [
    "2.2.2 计算投资资产的协方差是构建资产组合过程的核心部分。我们可以运用pandas内置方法生产协方差矩阵。"
   ]
  },
  {
   "cell_type": "code",
   "execution_count": 69,
   "metadata": {
    "collapsed": false
   },
   "outputs": [
    {
     "data": {
      "text/html": [
       "<div>\n",
       "<table border=\"1\" class=\"dataframe\">\n",
       "  <thead>\n",
       "    <tr style=\"text-align: right;\">\n",
       "      <th></th>\n",
       "      <th>002027.XSHE</th>\n",
       "      <th>600519.XSHG</th>\n",
       "      <th>601021.XSHG</th>\n",
       "      <th>002304.XSHE</th>\n",
       "      <th>000538.XSHE</th>\n",
       "      <th>300104.XSHE</th>\n",
       "      <th>002594.XSHE</th>\n",
       "      <th>000963.XSHE</th>\n",
       "      <th>600570.XSHG</th>\n",
       "    </tr>\n",
       "  </thead>\n",
       "  <tbody>\n",
       "    <tr>\n",
       "      <th>002027.XSHE</th>\n",
       "      <td>0.503557</td>\n",
       "      <td>0.032138</td>\n",
       "      <td>0.128531</td>\n",
       "      <td>0.035666</td>\n",
       "      <td>0.069619</td>\n",
       "      <td>0.088816</td>\n",
       "      <td>0.101195</td>\n",
       "      <td>0.048296</td>\n",
       "      <td>0.194186</td>\n",
       "    </tr>\n",
       "    <tr>\n",
       "      <th>600519.XSHG</th>\n",
       "      <td>0.032138</td>\n",
       "      <td>0.158262</td>\n",
       "      <td>0.082084</td>\n",
       "      <td>0.136468</td>\n",
       "      <td>0.107755</td>\n",
       "      <td>0.070777</td>\n",
       "      <td>0.104729</td>\n",
       "      <td>0.069452</td>\n",
       "      <td>0.088239</td>\n",
       "    </tr>\n",
       "    <tr>\n",
       "      <th>601021.XSHG</th>\n",
       "      <td>0.128531</td>\n",
       "      <td>0.082084</td>\n",
       "      <td>0.390851</td>\n",
       "      <td>0.105530</td>\n",
       "      <td>0.090776</td>\n",
       "      <td>0.177960</td>\n",
       "      <td>0.159842</td>\n",
       "      <td>0.095297</td>\n",
       "      <td>0.226510</td>\n",
       "    </tr>\n",
       "    <tr>\n",
       "      <th>002304.XSHE</th>\n",
       "      <td>0.035666</td>\n",
       "      <td>0.136468</td>\n",
       "      <td>0.105530</td>\n",
       "      <td>0.250387</td>\n",
       "      <td>0.164660</td>\n",
       "      <td>0.141355</td>\n",
       "      <td>0.174451</td>\n",
       "      <td>0.094548</td>\n",
       "      <td>0.178022</td>\n",
       "    </tr>\n",
       "    <tr>\n",
       "      <th>000538.XSHE</th>\n",
       "      <td>0.069619</td>\n",
       "      <td>0.107755</td>\n",
       "      <td>0.090776</td>\n",
       "      <td>0.164660</td>\n",
       "      <td>0.206220</td>\n",
       "      <td>0.128379</td>\n",
       "      <td>0.176464</td>\n",
       "      <td>0.087424</td>\n",
       "      <td>0.168611</td>\n",
       "    </tr>\n",
       "    <tr>\n",
       "      <th>300104.XSHE</th>\n",
       "      <td>0.088816</td>\n",
       "      <td>0.070777</td>\n",
       "      <td>0.177960</td>\n",
       "      <td>0.141355</td>\n",
       "      <td>0.128379</td>\n",
       "      <td>0.730542</td>\n",
       "      <td>0.277690</td>\n",
       "      <td>0.078229</td>\n",
       "      <td>0.434820</td>\n",
       "    </tr>\n",
       "    <tr>\n",
       "      <th>002594.XSHE</th>\n",
       "      <td>0.101195</td>\n",
       "      <td>0.104729</td>\n",
       "      <td>0.159842</td>\n",
       "      <td>0.174451</td>\n",
       "      <td>0.176464</td>\n",
       "      <td>0.277690</td>\n",
       "      <td>0.533834</td>\n",
       "      <td>0.116846</td>\n",
       "      <td>0.310133</td>\n",
       "    </tr>\n",
       "    <tr>\n",
       "      <th>000963.XSHE</th>\n",
       "      <td>0.048296</td>\n",
       "      <td>0.069452</td>\n",
       "      <td>0.095297</td>\n",
       "      <td>0.094548</td>\n",
       "      <td>0.087424</td>\n",
       "      <td>0.078229</td>\n",
       "      <td>0.116846</td>\n",
       "      <td>0.172462</td>\n",
       "      <td>0.126318</td>\n",
       "    </tr>\n",
       "    <tr>\n",
       "      <th>600570.XSHG</th>\n",
       "      <td>0.194186</td>\n",
       "      <td>0.088239</td>\n",
       "      <td>0.226510</td>\n",
       "      <td>0.178022</td>\n",
       "      <td>0.168611</td>\n",
       "      <td>0.434820</td>\n",
       "      <td>0.310133</td>\n",
       "      <td>0.126318</td>\n",
       "      <td>0.846809</td>\n",
       "    </tr>\n",
       "  </tbody>\n",
       "</table>\n",
       "</div>"
      ],
      "text/plain": [
       "             002027.XSHE  600519.XSHG  601021.XSHG  002304.XSHE  000538.XSHE  \\\n",
       "002027.XSHE     0.503557     0.032138     0.128531     0.035666     0.069619   \n",
       "600519.XSHG     0.032138     0.158262     0.082084     0.136468     0.107755   \n",
       "601021.XSHG     0.128531     0.082084     0.390851     0.105530     0.090776   \n",
       "002304.XSHE     0.035666     0.136468     0.105530     0.250387     0.164660   \n",
       "000538.XSHE     0.069619     0.107755     0.090776     0.164660     0.206220   \n",
       "300104.XSHE     0.088816     0.070777     0.177960     0.141355     0.128379   \n",
       "002594.XSHE     0.101195     0.104729     0.159842     0.174451     0.176464   \n",
       "000963.XSHE     0.048296     0.069452     0.095297     0.094548     0.087424   \n",
       "600570.XSHG     0.194186     0.088239     0.226510     0.178022     0.168611   \n",
       "\n",
       "             300104.XSHE  002594.XSHE  000963.XSHE  600570.XSHG  \n",
       "002027.XSHE     0.088816     0.101195     0.048296     0.194186  \n",
       "600519.XSHG     0.070777     0.104729     0.069452     0.088239  \n",
       "601021.XSHG     0.177960     0.159842     0.095297     0.226510  \n",
       "002304.XSHE     0.141355     0.174451     0.094548     0.178022  \n",
       "000538.XSHE     0.128379     0.176464     0.087424     0.168611  \n",
       "300104.XSHE     0.730542     0.277690     0.078229     0.434820  \n",
       "002594.XSHE     0.277690     0.533834     0.116846     0.310133  \n",
       "000963.XSHE     0.078229     0.116846     0.172462     0.126318  \n",
       "600570.XSHG     0.434820     0.310133     0.126318     0.846809  "
      ]
     },
     "execution_count": 69,
     "metadata": {},
     "output_type": "execute_result"
    }
   ],
   "source": [
    "log_returns.cov() * 252 #得到协方差矩阵"
   ]
  },
  {
   "cell_type": "markdown",
   "metadata": {},
   "source": [
    "2.2.3 我们为每一个股票分配一个随机权重。"
   ]
  },
  {
   "cell_type": "code",
   "execution_count": 99,
   "metadata": {
    "collapsed": false
   },
   "outputs": [
    {
     "data": {
      "text/plain": [
       "array([ 0.07877129,  0.11728734,  0.17456801,  0.07960339,  0.15916881,\n",
       "        0.05274144,  0.09353782,  0.03720363,  0.15818885,  0.04892942])"
      ]
     },
     "execution_count": 99,
     "metadata": {},
     "output_type": "execute_result"
    }
   ],
   "source": [
    "weights = np.random.random(noa)\n",
    "weights /= np.sum(weights)\n",
    "weights"
   ]
  },
  {
   "cell_type": "markdown",
   "metadata": {},
   "source": [
    "2.2.4 可以得到在当前随机分配下的预期组合年化收益,组合方差和组合标准差"
   ]
  },
  {
   "cell_type": "code",
   "execution_count": 102,
   "metadata": {
    "collapsed": false
   },
   "outputs": [
    {
     "data": {
      "text/plain": [
       "0.35562942923639623"
      ]
     },
     "execution_count": 102,
     "metadata": {},
     "output_type": "execute_result"
    }
   ],
   "source": [
    "np.sum(log_returns.mean()*weights)*252"
   ]
  },
  {
   "cell_type": "code",
   "execution_count": 103,
   "metadata": {
    "collapsed": false
   },
   "outputs": [
    {
     "data": {
      "text/plain": [
       "0.140779057121977"
      ]
     },
     "execution_count": 103,
     "metadata": {},
     "output_type": "execute_result"
    }
   ],
   "source": [
    "np.dot(weights.T, np.dot(log_returns.cov()*252,weights))"
   ]
  },
  {
   "cell_type": "code",
   "execution_count": 105,
   "metadata": {
    "collapsed": false
   },
   "outputs": [
    {
     "data": {
      "text/plain": [
       "0.37520535326934901"
      ]
     },
     "execution_count": 105,
     "metadata": {},
     "output_type": "execute_result"
    }
   ],
   "source": [
    "np.sqrt(np.dot(weights.T, np.dot(log_returns.cov()* 252,weights)))"
   ]
  },
  {
   "cell_type": "code",
   "execution_count": 106,
   "metadata": {
    "collapsed": false
   },
   "outputs": [
    {
     "data": {
      "image/png": "[encoded data removed]",
      "text/plain": [
       "<matplotlib.figure.Figure at 0x7f471875d610>"
      ]
     },
     "metadata": {},
     "output_type": "display_data"
    }
   ],
   "source": [
    "port_returns = []\n",
    "port_variance = []\n",
    "for p in range(10000):\n",
    "    #随机为10支股票分配随机仓位\n",
    "    weights = np.random.random(noa) \n",
    "    weights /= np.sum(weights) \n",
    "    #得到随机条件下组合预测年化收益记录\n",
    "    port_returns.append(np.sum(log_returns.mean()*252*weights))\n",
    "    #得到随机条件下组合标准差\n",
    "    port_variance.append(np.sqrt(np.dot(weights.T, np.dot(log_returns.cov()*252, weights))))\n",
    "\n",
    "port_returns = np.array(port_returns)\n",
    "port_variance = np.array(port_variance)\n",
    "\n",
    "#无风险利率设定为4%\n",
    "risk_free = 0.04\n",
    "plt.figure(figsize = (8,4));\n",
    "plt.scatter(port_variance, port_returns, c=(port_returns-risk_free)/port_variance, marker = 'o');\n",
    "plt.grid(True)\n",
    "plt.xlabel('excepted volatility')\n",
    "plt.ylabel('expected return')\n",
    "plt.colorbar(label = 'Sharpe ratio');"
   ]
  },
  {
   "cell_type": "markdown",
   "metadata": {},
   "source": [
    "### **2.3 Sharp值最大化**\n",
    "\n",
    "(Sharpe Ratio)为经风险调整后之绩效指标。夏普指数反映了单位风险基金净值增长率超过无风险收益率的程度。Sharp值最大化是组合收益最优化。"
   ]
  },
  {
   "cell_type": "code",
   "execution_count": 132,
   "metadata": {
    "collapsed": false
   },
   "outputs": [
    {
     "data": {
      "text/plain": [
       "  status: 0\n",
       " success: True\n",
       "    njev: 9\n",
       "    nfev: 108\n",
       "     fun: -2.1347913999575869\n",
       "       x: array([  5.92194216e-01,   1.63875800e-01,   1.52536407e-02,\n",
       "        -6.25557548e-16,   2.63461128e-17,   2.73652628e-16,\n",
       "         2.28676343e-01,   1.12187820e-16,  -1.84097529e-16,\n",
       "         1.87398925e-15])\n",
       " message: 'Optimization terminated successfully.'\n",
       "     jac: array([  2.32458115e-05,  -4.07695770e-05,  -1.18613243e-05,\n",
       "         4.37186539e-01,   8.19861293e-01,   8.01883221e-01,\n",
       "        -2.99811363e-05,   7.05611169e-01,   9.93084908e-03,\n",
       "         2.80743906e+00,   0.00000000e+00])\n",
       "     nit: 9"
      ]
     },
     "execution_count": 132,
     "metadata": {},
     "output_type": "execute_result"
    }
   ],
   "source": [
    "def statistics(weights):\n",
    "    weights = np.array(weights)\n",
    "    port_returns = np.sum(log_returns.mean()*weights)*252\n",
    "    port_variance = np.sqrt(np.dot(weights.T, np.dot(log_returns.cov()*252,weights)))\n",
    "    return np.array([port_returns, port_variance, port_returns/port_variance])\n",
    "\n",
    "#最小化夏普指数的负值\n",
    "def min_sharpe(weights):\n",
    "    return -statistics(weights)[2]\n",
    "\n",
    "#约束是所有参数(权重)的总和为1。这可以用minimize函数的约定表达如下\n",
    "cons = ({'type':'eq', 'fun':lambda x: np.sum(x)-1})\n",
    "\n",
    "#我们还将参数值(权重)限制在0和1之间。这些值以多个元组组成的一个元组形式提供给最小化函数\n",
    "bnds = tuple((0,1) for x in range(noa))\n",
    "\n",
    "#优化函数调用中忽略的唯一输入是起始参数列表(对权重的初始猜测)。我们简单的使用平均分布。\n",
    "opts = sco.minimize(min_sharpe, noa*[1./noa,], method = 'SLSQP', bounds = bnds, constraints = cons)\n",
    "\n",
    "opts"
   ]
  },
  {
   "cell_type": "code",
   "execution_count": 133,
   "metadata": {
    "collapsed": false
   },
   "outputs": [
    {
     "data": {
      "text/plain": [
       "array([ 0.592,  0.164,  0.015, -0.   ,  0.   ,  0.   ,  0.229,  0.   ,\n",
       "       -0.   ,  0.   ])"
      ]
     },
     "execution_count": 133,
     "metadata": {},
     "output_type": "execute_result"
    }
   ],
   "source": [
    "#各个不同股票的权重\n",
    "opts['x'].round(3) "
   ]
  },
  {
   "cell_type": "code",
   "execution_count": 134,
   "metadata": {
    "collapsed": false
   },
   "outputs": [
    {
     "data": {
      "text/plain": [
       "array([ 1.086,  0.509,  2.135])"
      ]
     },
     "execution_count": 134,
     "metadata": {},
     "output_type": "execute_result"
    }
   ],
   "source": [
    "#预期收益率、预期波动率、最优夏普指数\n",
    "statistics(opts['x']).round(3) "
   ]
  },
  {
   "cell_type": "markdown",
   "metadata": {},
   "source": [
    "### **2.4 组合方差最小化**\n",
    "\n",
    "组合方差最小化意味波动小，稳定性强。"
   ]
  },
  {
   "cell_type": "code",
   "execution_count": 135,
   "metadata": {
    "collapsed": false
   },
   "outputs": [
    {
     "data": {
      "text/plain": [
       "  status: 0\n",
       " success: True\n",
       "    njev: 7\n",
       "    nfev: 84\n",
       "     fun: 0.32228873994691271\n",
       "       x: array([  1.25763137e-01,   4.03312618e-01,   2.47613475e-02,\n",
       "         6.17995238e-18,   7.51343785e-02,  -2.50992803e-17,\n",
       "         3.24015820e-02,   1.81603864e-18,   3.38626938e-01,\n",
       "         6.45100293e-18])\n",
       " message: 'Optimization terminated successfully.'\n",
       "     jac: array([ 0.32249353,  0.32210564,  0.32208595,  0.34474061,  0.32182401,\n",
       "        0.35930406,  0.32246973,  0.37465306,  0.32253139,  0.41934536,  0.        ])\n",
       "     nit: 7"
      ]
     },
     "execution_count": 135,
     "metadata": {},
     "output_type": "execute_result"
    }
   ],
   "source": [
    "#我们定义一个函数对方差进行最小化\n",
    "def min_variance(weights):\n",
    "    return statistics(weights)[1]\n",
    "\n",
    "optv = sco.minimize(min_variance, noa*[1./noa,],method = 'SLSQP', bounds = bnds, constraints = cons)\n",
    "\n",
    "optv"
   ]
  },
  {
   "cell_type": "code",
   "execution_count": 136,
   "metadata": {
    "collapsed": false
   },
   "outputs": [
    {
     "data": {
      "text/plain": [
       "array([ 0.126,  0.403,  0.025,  0.   ,  0.075, -0.   ,  0.032,  0.   ,\n",
       "        0.339,  0.   ])"
      ]
     },
     "execution_count": 136,
     "metadata": {},
     "output_type": "execute_result"
    }
   ],
   "source": [
    "#最小方差优化条件下，各个不同股票的权重\n",
    "optv['x'].round(3)"
   ]
  },
  {
   "cell_type": "code",
   "execution_count": 137,
   "metadata": {
    "collapsed": false
   },
   "outputs": [
    {
     "data": {
      "text/plain": [
       "array([ 0.403,  0.322,  1.251])"
      ]
     },
     "execution_count": 137,
     "metadata": {},
     "output_type": "execute_result"
    }
   ],
   "source": [
    "#最小方差优化条件下，组合预期收益率、波动率和夏普指数\n",
    "statistics(optv['x']).round(3)"
   ]
  },
  {
   "cell_type": "code",
   "execution_count": 138,
   "metadata": {
    "collapsed": true
   },
   "outputs": [],
   "source": [
    "#在不同目标收益率水平（target_returns）循环时，最小化的一个约束条件会变化。\n",
    "target_returns = np.linspace(0.0,0.8,50)\n",
    "target_variance = []\n",
    "for tar in target_returns:\n",
    "    cons = ({'type':'eq','fun':lambda x:statistics(x)[0]-tar},{'type':'eq','fun':lambda x:np.sum(x)-1})\n",
    "    res = sco.minimize(min_variance, noa*[1./noa,],method = 'SLSQP', bounds = bnds, constraints = cons)\n",
    "    target_variance.append(res['fun'])\n",
    "\n",
    "target_variance = np.array(target_variance)"
   ]
  },
  {
   "cell_type": "code",
   "execution_count": 139,
   "metadata": {
    "collapsed": false
   },
   "outputs": [
    {
     "data": {
      "image/png": "[encoded data removed]",
      "text/plain": [
       "<matplotlib.figure.Figure at 0x7f470ca7ec50>"
      ]
     },
     "metadata": {},
     "output_type": "display_data"
    }
   ],
   "source": [
    "plt.figure(figsize = (8,4))\n",
    "#圆圈：蒙特卡洛随机产生的组合分布\n",
    "plt.scatter(port_variance, port_returns, c = port_returns/port_variance,marker = 'o')\n",
    "#叉号：有效前沿\n",
    "plt.scatter(target_variance,target_returns, c = target_returns/target_variance, marker = 'x')\n",
    "#红星：标记最高sharpe组合\n",
    "plt.plot(statistics(opts['x'])[1], statistics(opts['x'])[0], 'r*', markersize = 15.0)\n",
    "#黄星：标记最小方差组合\n",
    "plt.plot(statistics(optv['x'])[1], statistics(optv['x'])[0], 'y*', markersize = 15.0)\n",
    "plt.grid(True)\n",
    "plt.xlabel('expected volatility')\n",
    "plt.ylabel('expected return')\n",
    "plt.colorbar(label = 'Sharpe ratio');"
   ]
  }
 ],
 "metadata": {
  "kernelspec": {
   "display_name": "Python 2",
   "language": "python",
   "name": "python2"
  },
  "language_info": {
   "codemirror_mode": {
    "name": "ipython",
    "version": 2
   },
   "file_extension": ".py",
   "mimetype": "text/x-python",
   "name": "python",
   "nbconvert_exporter": "python",
   "pygments_lexer": "ipython2",
   "version": "2.7.10"
  }
 },
 "nbformat": 4,
 "nbformat_minor": 0
}
